{
 "cells": [
  {
   "attachments": {},
   "cell_type": "markdown",
   "metadata": {},
   "source": [
    "# Chapter 1 Vectors, Matrices, and Arrays"
   ]
  },
  {
   "attachments": {},
   "cell_type": "markdown",
   "metadata": {},
   "source": [
    "## Creating a Vector and a Matrix"
   ]
  },
  {
   "cell_type": "code",
   "execution_count": 2,
   "metadata": {},
   "outputs": [
    {
     "name": "stdout",
     "output_type": "stream",
     "text": [
      "[1 2 3]\n",
      "[[1]\n",
      " [2]\n",
      " [3]]\n"
     ]
    }
   ],
   "source": [
    "# Load library\n",
    "import numpy as np\n",
    "# Create a vector as a row\n",
    "vector_row = np.array([1, 2, 3])\n",
    "# Create a vector as a column\n",
    "vector_column = np.array([[1],\n",
    "                        [2],\n",
    "                        [3]])\n",
    "print(vector_row)\n",
    "print(vector_column)\n",
    "\n",
    "matrix = np.array([[1, 2],\n",
    "                [1, 2],\n",
    "                [1, 2]])\n",
    "print(matrix)"
   ]
  },
  {
   "attachments": {},
   "cell_type": "markdown",
   "metadata": {},
   "source": [
    "## Creating a Sparse Matrix"
   ]
  },
  {
   "attachments": {},
   "cell_type": "markdown",
   "metadata": {},
   "source": [
    "`sparse.csr_matrix(matrix)` returns the position of nonzero element and the value of element in a line.\n",
    "\n",
    "稀疏矩阵只存储非零元素，并假设所有其他的值都是零，这将大大节省计算量。"
   ]
  },
  {
   "cell_type": "code",
   "execution_count": 5,
   "metadata": {},
   "outputs": [
    {
     "name": "stdout",
     "output_type": "stream",
     "text": [
      "[[0 0]\n",
      " [0 1]\n",
      " [3 0]]\n",
      "  (1, 1)\t1\n",
      "  (2, 0)\t3\n"
     ]
    }
   ],
   "source": [
    "# Load libraries\n",
    "import numpy as np\n",
    "from scipy import sparse\n",
    "# Create a matrix\n",
    "matrix = np.array([[0, 0],\n",
    "[0, 1],\n",
    "[3, 0]])\n",
    "matrix_large = np.array([[0, 0, 0, 0, 0, 0, 0, 0, 0, 0],\n",
    "[0, 1, 0, 0, 0, 0, 0, 0, 0, 0],\n",
    "[3, 0, 0, 0, 0, 0, 0, 0, 0, 0]])\n",
    "# Create compressed sparse row (CSR) matrix\n",
    "matrix_sparse = sparse.csr_matrix(matrix)\n",
    "print(matrix)\n",
    "print(matrix_sparse)"
   ]
  },
  {
   "attachments": {},
   "cell_type": "markdown",
   "metadata": {},
   "source": [
    "## Selecting Elements"
   ]
  },
  {
   "cell_type": "code",
   "execution_count": 9,
   "metadata": {},
   "outputs": [
    {
     "data": {
      "text/plain": [
       "3"
      ]
     },
     "execution_count": 9,
     "metadata": {},
     "output_type": "execute_result"
    }
   ],
   "source": [
    "# Load library\n",
    "import numpy as np\n",
    "# Create row vector\n",
    "vector = np.array([1, 2, 3, 4, 5, 6])\n",
    "# Create matrix\n",
    "matrix = np.array([[1, 2, 3],\n",
    "[4, 5, 6],\n",
    "[7, 8, 9]])\n",
    "# Select third element of vector\n",
    "vector[2]\n",
    "# Select second row, second column\n",
    "matrix[1,1]"
   ]
  },
  {
   "attachments": {},
   "cell_type": "markdown",
   "metadata": {},
   "source": [
    "## Describing a Matrix"
   ]
  },
  {
   "cell_type": "code",
   "execution_count": 11,
   "metadata": {},
   "outputs": [
    {
     "data": {
      "text/plain": [
       "2"
      ]
     },
     "execution_count": 11,
     "metadata": {},
     "output_type": "execute_result"
    }
   ],
   "source": [
    "# Load library\n",
    "import numpy as np\n",
    "# Create matrix\n",
    "matrix = np.array([[1, 2, 3, 4],\n",
    "                    [5, 6, 7, 8],\n",
    "                    [9, 10, 11, 12]])\n",
    "# View number of rows and columns\n",
    "matrix.shape\n",
    "(3, 4)\n",
    "# View number of elements (rows * columns)\n",
    "matrix.size\n",
    "12\n",
    "# View number of dimensions\n",
    "matrix.ndim\n",
    "2"
   ]
  },
  {
   "attachments": {},
   "cell_type": "markdown",
   "metadata": {},
   "source": [
    "## Applying Operations to Elements"
   ]
  },
  {
   "attachments": {},
   "cell_type": "markdown",
   "metadata": {},
   "source": [
    "这里用了lambda匿名函数，但是设置匿名函数输入针对单元素`i`，然后使用`vectorize`函数将其转换为面向矩阵的函数。\n",
    "\n",
    "NumPy的vectorize类将一个函数转换为一个可以应用于数组或数组切片中所有元素的函数。值得注意的是，vectorize本质上是对元素的for循环，并不能提高性能。"
   ]
  },
  {
   "cell_type": "code",
   "execution_count": 13,
   "metadata": {},
   "outputs": [
    {
     "data": {
      "text/plain": [
       "array([[101, 102, 103],\n",
       "       [104, 105, 106],\n",
       "       [107, 108, 109]])"
      ]
     },
     "execution_count": 13,
     "metadata": {},
     "output_type": "execute_result"
    }
   ],
   "source": [
    "# Load library\n",
    "import numpy as np\n",
    "# Create matrix\n",
    "matrix = np.array([[1, 2, 3],\n",
    "[4, 5, 6],\n",
    "[7, 8, 9]])\n",
    "# Create function that adds 100 to something\n",
    "add_100 = lambda i: i + 100\n",
    "# Create vectorized function\n",
    "vectorized_add_100 = np.vectorize(add_100)\n",
    "# Apply function to all elements in matrix\n",
    "vectorized_add_100(matrix)"
   ]
  },
  {
   "attachments": {},
   "cell_type": "markdown",
   "metadata": {},
   "source": [
    "## Finding the Maximum and Minimum Values"
   ]
  },
  {
   "cell_type": "code",
   "execution_count": 14,
   "metadata": {},
   "outputs": [
    {
     "data": {
      "text/plain": [
       "1"
      ]
     },
     "execution_count": 14,
     "metadata": {},
     "output_type": "execute_result"
    }
   ],
   "source": [
    "# Load library\n",
    "import numpy as np\n",
    "# Create matrix\n",
    "matrix = np.array([[1, 2, 3],\n",
    "                [4, 5, 6],\n",
    "                [7, 8, 9]])\n",
    "# Return maximum element\n",
    "np.max(matrix)\n",
    "9\n",
    "# Return minimum element\n",
    "np.min(matrix)\n",
    "1"
   ]
  },
  {
   "cell_type": "code",
   "execution_count": 16,
   "metadata": {},
   "outputs": [
    {
     "data": {
      "text/plain": [
       "array([3, 6, 9])"
      ]
     },
     "execution_count": 16,
     "metadata": {},
     "output_type": "execute_result"
    }
   ],
   "source": [
    "# Find maximum element in each column\n",
    "np.max(matrix, axis=0)\n",
    "# Find maximum element in each row\n",
    "np.max(matrix, axis=1)"
   ]
  },
  {
   "attachments": {},
   "cell_type": "markdown",
   "metadata": {},
   "source": [
    "## Calculating the Average, Variance, and Standard Deviation"
   ]
  },
  {
   "cell_type": "code",
   "execution_count": 17,
   "metadata": {},
   "outputs": [
    {
     "data": {
      "text/plain": [
       "2.581988897471611"
      ]
     },
     "execution_count": 17,
     "metadata": {},
     "output_type": "execute_result"
    }
   ],
   "source": [
    "# Load library\n",
    "import numpy as np\n",
    "# Create matrix\n",
    "matrix = np.array([[1, 2, 3],\n",
    "[4, 5, 6],\n",
    "[7, 8, 9]])\n",
    "np.mean(matrix)\n",
    "5.0\n",
    "# Return variance\n",
    "np.var(matrix)\n",
    "6.666666666666667\n",
    "# Return standard deviation\n",
    "np.std(matrix)\n",
    "2.5819888974716112"
   ]
  },
  {
   "attachments": {},
   "cell_type": "markdown",
   "metadata": {},
   "source": [
    "## Reshaping and Flattening a Matrix"
   ]
  },
  {
   "cell_type": "code",
   "execution_count": 32,
   "metadata": {},
   "outputs": [
    {
     "data": {
      "text/plain": [
       "array([[ 1,  2,  3,  4,  5,  6],\n",
       "       [ 7,  8,  9, 10, 11, 12]])"
      ]
     },
     "execution_count": 32,
     "metadata": {},
     "output_type": "execute_result"
    }
   ],
   "source": [
    "# Load library\n",
    "import numpy as np\n",
    "# Create 4x3 matrix\n",
    "matrix = np.array([[1, 2, 3],\n",
    "                [4, 5, 6],\n",
    "                [7, 8, 9],\n",
    "                [10, 11, 12]])\n",
    "# Reshape matrix into 2x6 matrix\n",
    "matrix.reshape(2, 6)\n",
    "# 用一种更通用的手段\n",
    "matrix.reshape(2, matrix.size//2)\n",
    "# 但其实可以更方便，使用-1\n",
    "matrix.reshape(2, -1)\n",
    "# array([[ 1, 2, 3, 4, 5, 6],\n",
    "# [ 7, 8, 9, 10, 11, 12]])\n",
    "\n",
    "\n",
    "# Create matrix\n",
    "matrix = np.array([[1, 2, 3],\n",
    "[4, 5, 6],\n",
    "[7, 8, 9]])\n",
    "# Flatten matrix\n",
    "matrix.flatten()\n",
    "# array([1, 2, 3, 4, 5, 6, 7, 8, 9])"
   ]
  },
  {
   "cell_type": "code",
   "execution_count": null,
   "metadata": {},
   "outputs": [],
   "source": [
    "                [7, 8, 9],\n",
    "                [10, 11, 12]])\n",
    "# Reshape matrix into 2x6 matrix\n",
    "matrix.reshape(2, 6)\n",
    "# 用一种更通用的手段\n",
    "matrix.reshape(2, matrix.size//2)\n",
    "# 但其实可以更方便，使用-1\n",
    "matrix.reshape(2, -1)\n",
    "# array([[ 1, 2, 3, 4, 5, 6],\n",
    "# [ 7, 8, 9, 10, 11, 12]])\n",
    "\n",
    "\n",
    "# Create matrix\n",
    "matrix = np.array([[1, 2, 3],\n",
    "[4, 5, 6],\n",
    "[7, 8, 9]])\n",
    "# Flatten matrix\n",
    "matrix.flatten()\n",
    "# array([1, 2, 3, 4, 5, 6, 7, 8, 9])"
   ]
  },
  {
   "cell_type": "code",
   "execution_count": null,
   "metadata": {},
   "outputs": [],
   "source": [
    "matrix = np.array([[1, 2, 3],\n",
    "                [4, 5, 6],\n",
    "                [7, 8, 9],\n",
    "                [10, 11, 12]])\n",
    "# Reshape matrix into 2x6 matrix\n",
    "matrix.reshape(2, 6)\n",
    "# 用一种更通用的手段\n",
    "matrix.reshape(2, matrix.size//2)\n",
    "# 但其实可以更方便，使用-1\n",
    "matrix.reshape(2, -1)\n",
    "# array([[ 1, 2, 3, 4, 5, 6],\n",
    "# [ 7, 8, 9, 10, 11, 12]])\n",
    "\n",
    "\n",
    "# Create matrix\n",
    "matrix = np.array([[1, 2, 3],\n",
    "[4, 5, 6],\n",
    "[7, 8, 9]])\n",
    "# Flatten matrix\n",
    "matrix.flatten()\n",
    "# array([1, 2, 3, 4, 5, 6, 7, 8, 9])"
   ]
  },
  {
   "cell_type": "markdown",
   "metadata": {},
   "source": [
    "## Transposing a Vector or Matrix"
   ]
  },
  {
   "cell_type": "code",
   "execution_count": 33,
   "metadata": {},
   "outputs": [
    {
     "data": {
      "text/plain": [
       "array([[1, 4, 7],\n",
       "       [2, 5, 8],\n",
       "       [3, 6, 9]])"
      ]
     },
     "execution_count": 33,
     "metadata": {},
     "output_type": "execute_result"
    }
   ],
   "source": [
    "# Load library\n",
    "import numpy as np\n",
    "# Create matrix\n",
    "matrix = np.array([[1, 2, 3],\n",
    "[4, 5, 6],\n",
    "[7, 8, 9]])\n",
    "# Transpose matrix\n",
    "matrix.T\n",
    "# array([[1, 4, 7],\n",
    "# [2, 5, 8],\n",
    "# [3, 6, 9]])"
   ]
  },
  {
   "attachments": {},
   "cell_type": "markdown",
   "metadata": {},
   "source": [
    "## The Rank, Determinant, Diagonal of a Matrix"
   ]
  },
  {
   "cell_type": "code",
   "execution_count": 39,
   "metadata": {},
   "outputs": [
    {
     "data": {
      "text/plain": [
       "17"
      ]
     },
     "execution_count": 39,
     "metadata": {},
     "output_type": "execute_result"
    }
   ],
   "source": [
    "# Load library\n",
    "import numpy as np\n",
    "# Create matrix\n",
    "matrix = np.array([[1, 1, 1],\n",
    "                    [1, 1, 10],\n",
    "                    [1, 1, 15]])\n",
    "# Return matrix rank\n",
    "np.linalg.matrix_rank(matrix)\n",
    "np.linalg.det(matrix)\n",
    "# Return diagonal elements\n",
    "matrix.diagonal()\n",
    "# Return diagonal one above the main diagonal\n",
    "matrix.diagonal(offset=1)\n",
    "# Return diagonal one below the main diagonal\n",
    "matrix.diagonal(offset=-1)\n",
    "# Return trace\n",
    "matrix.trace()"
   ]
  },
  {
   "attachments": {},
   "cell_type": "markdown",
   "metadata": {},
   "source": [
    "## Finding Eigenvalues and Eigenvectors"
   ]
  },
  {
   "cell_type": "code",
   "execution_count": 41,
   "metadata": {},
   "outputs": [
    {
     "name": "stdout",
     "output_type": "stream",
     "text": [
      "[13.55075847  0.74003145 -3.29078992]\n",
      "[[-0.17622017 -0.96677403 -0.53373322]\n",
      " [-0.435951    0.2053623  -0.64324848]\n",
      " [-0.88254925  0.15223105  0.54896288]]\n"
     ]
    }
   ],
   "source": [
    "# Load library\n",
    "import numpy as np\n",
    "# Create matrix\n",
    "matrix = np.array([[1, -1, 3],\n",
    "                    [1, 1, 6],\n",
    "                    [3, 8, 9]])\n",
    "# Calculate eigenvalues and eigenvectors\n",
    "eigenvalues, eigenvectors = np.linalg.eig(matrix)\n",
    "# View eigenvalues\n",
    "print(eigenvalues)\n",
    "# array([ 13.55075847, 0.74003145, -3.29078992])\n",
    "# View eigenvectors\n",
    "print(eigenvectors)\n",
    "# array([[-0.17622017, -0.96677403, -0.53373322],\n",
    "# [-0.435951 , 0.2053623 , -0.64324848],\n",
    "# [-0.88254925, 0.15223105, 0.54896288]])"
   ]
  },
  {
   "attachments": {},
   "cell_type": "markdown",
   "metadata": {},
   "source": [
    "## Dot Products of Vector - Adding, Subtracting and Multiplying, Inverting  Matrices"
   ]
  },
  {
   "cell_type": "code",
   "execution_count": 56,
   "metadata": {},
   "outputs": [
    {
     "data": {
      "text/plain": [
       "array([[-1.66666667,  1.33333333],\n",
       "       [ 0.66666667, -0.33333333]])"
      ]
     },
     "execution_count": 56,
     "metadata": {},
     "output_type": "execute_result"
    }
   ],
   "source": [
    "# Load library\n",
    "import numpy as np\n",
    "# Create two vectors\n",
    "vector_a = np.array([1,2,3])\n",
    "vector_b = np.array([4,5,6])\n",
    "# Calculate dot product\n",
    "np.dot(vector_a, vector_b)\n",
    "# in Python 3.5+ we can use the new @ operator:\n",
    "vector_a @ vector_b\n",
    "\n",
    "# Create matrix\n",
    "matrix_a = np.array([[1, 1, 1],\n",
    "                    [1, 1, 1],\n",
    "                    [1, 1, 2]])\n",
    "# Create matrix\n",
    "matrix_b = np.array([[1, 3, 1],\n",
    "                    [1, 3, 1],\n",
    "                    [1, 3, 8]])\n",
    "# Add two matrices\n",
    "np.add(matrix_a, matrix_b)\n",
    "# array([[ 2, 4, 2],\n",
    "# [ 2, 4, 2],\n",
    "# [ 2, 4, 10]])\n",
    "# Subtract two matrices\n",
    "np.subtract(matrix_a, matrix_b)\n",
    "# array([[ 0, -2, 0],\n",
    "# [ 0, -2, 0],\n",
    "# [ 0, -2, -6]])\n",
    "\n",
    "# Alternatively, we can simply use the + and - operators:\n",
    "matrix_a + matrix_b\n",
    "\n",
    "# Multiply two matrices\n",
    "np.dot(matrix_a, matrix_b)\n",
    "# dot multiply two matrices\n",
    "matrix_a @ matrix_b\n",
    "# Multiply two matrices element-wise\n",
    "matrix_a * matrix_b\n",
    "\n",
    "\n",
    "# Create matrix\n",
    "matrix = np.array([[1, 4],\n",
    "[2, 5]])\n",
    "# Calculate inverse of matrix\n",
    "np.linalg.inv(matrix)\n",
    "# array([[-1.66666667, 1.33333333],\n",
    "# [ 0.66666667, -0.33333333]])\n"
   ]
  },
  {
   "attachments": {},
   "cell_type": "markdown",
   "metadata": {},
   "source": [
    "## Generating Random Values\n",
    "\n",
    "随机种子（Random Seed）是计算机专业术语，一种以随机数作为对象的以真随机数（种子）为初始条件的随机数。一般计算机的随机数都是伪随机数，以一个真随机数（种子）作为初始条件，然后用一定的算法不停迭代产生随机数"
   ]
  },
  {
   "cell_type": "code",
   "execution_count": 75,
   "metadata": {},
   "outputs": [
    {
     "data": {
      "text/plain": [
       "array([3, 7, 9])"
      ]
     },
     "execution_count": 75,
     "metadata": {},
     "output_type": "execute_result"
    }
   ],
   "source": [
    "# Load library\n",
    "import numpy as np\n",
    "# Set seed\n",
    "np.random.seed(0)\n",
    "# Generate three random floats between 0.0 and 1.0\n",
    "np.random.random(3)\n",
    "# array([ 0.5488135 , 0.71518937, 0.60276338])\n",
    "# Generate three random integers between 1 and 10\n",
    "np.random.randint(0, 11, 3)\n",
    "# array([3, 7, 9])\n",
    "\n",
    "# Draw three numbers from a normal distribution with mean 0.0\n",
    "# and standard deviation of 1.0\n",
    "np.random.normal(0.0, 1.0, 3)\n",
    "# array([-1.42232584, 1.52006949, -0.29139398])\n",
    "# Draw three numbers from a logistic distribution with mean 0.0 and scale of 1.0\n",
    "np.random.logistic(0.0, 1.0, 3)\n",
    "# array([-0.98118713, -0.08939902, 1.46416405])\n",
    "# Draw three numbers greater than or equal to 1.0 and less than 2.0\n",
    "np.random.uniform(1.0, 2.0, 3)\n",
    "# array([ 1.47997717, 1.3927848 , 1.83607876])"
   ]
  }
 ],
 "metadata": {
  "kernelspec": {
   "display_name": "Python 3",
   "language": "python",
   "name": "python3"
  },
  "language_info": {
   "codemirror_mode": {
    "name": "ipython",
    "version": 3
   },
   "file_extension": ".py",
   "mimetype": "text/x-python",
   "name": "python",
   "nbconvert_exporter": "python",
   "pygments_lexer": "ipython3",
   "version": "3.10.4"
  },
  "orig_nbformat": 4
 },
 "nbformat": 4,
 "nbformat_minor": 2
}
